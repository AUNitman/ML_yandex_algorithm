{
 "cells": [
  {
   "cell_type": "markdown",
   "id": "119c9460",
   "metadata": {},
   "source": [
    "## Home assignment 05: Bagging and OOB score\n",
    "\n",
    "Please, fill the lines in the code below.\n",
    "This is a simplified version of `BaggingRegressor` from `sklearn`. Please, notice, that `sklearn` API is **not preserved**.\n",
    "\n",
    "Your algorithm should be able to train different instances of the same model class on bootstrapped datasets and to provide [OOB score](https://en.wikipedia.org/wiki/Out-of-bag_error) for the training set.\n",
    "\n",
    "The model should be passed as model class with no explicit parameters and no parentheses.\n",
    "\n",
    "Example:\n",
    "```\n",
    "import numpy as np\n",
    "from sklearn.linear_model import LinearRegression\n",
    "\n",
    "bagging_regressor = SimplifiedBaggingRegressor(num_bags=10, oob=True)\n",
    "bagging_regressor.fit(LinearRegression, X, y)\n",
    "\n",
    "```"
   ]
  },
  {
   "cell_type": "code",
   "execution_count": 1,
   "id": "31ecde34",
   "metadata": {},
   "outputs": [],
   "source": [
    "import numpy as np"
   ]
  },
  {
   "cell_type": "code",
   "execution_count": 12,
   "id": "e0e4b72a",
   "metadata": {},
   "outputs": [],
   "source": [
    "class SimplifiedBaggingRegressor:\n",
    "    def __init__(self, num_bags, oob=False):\n",
    "        self.num_bags = num_bags\n",
    "        self.oob = oob\n",
    "        \n",
    "    def _generate_splits(self, data: np.ndarray):\n",
    "        '''\n",
    "        Generate indices for every bag and store in self.indices_list list\n",
    "        '''\n",
    "        self.indices_list = []\n",
    "        data_length = len(data)\n",
    "        for _ in range(self.num_bags):\n",
    "            indices = np.random.choice(data_length, data_length, replace=True)  # Fixed: choose indices, not data values\n",
    "            self.indices_list.append(indices)\n",
    "        \n",
    "    def fit(self, model_constructor, data, target):\n",
    "        '''\n",
    "        Fit model on every bag.\n",
    "        Model constructor with no parameters (and with no ()) is passed to this function.\n",
    "        '''\n",
    "        self.data = data  # Store data if needed for OOB\n",
    "        self.target = target  # Store target if needed for OOB\n",
    "        self._generate_splits(data)\n",
    "        assert len(set(list(map(len, self.indices_list)))) == 1, 'All bags should be of the same length!'\n",
    "        assert list(map(len, self.indices_list))[0] == len(data), 'All bags should contain `len(data)` number of elements!'\n",
    "        self.models_list = []\n",
    "        for bag in range(self.num_bags):\n",
    "            model = model_constructor()\n",
    "            data_bag = data[self.indices_list[bag]]  # Fixed: use indices to get data samples\n",
    "            target_bag = target[self.indices_list[bag]]  # Fixed: use indices to get target samples\n",
    "            self.models_list.append(model.fit(data_bag, target_bag))\n",
    "        \n",
    "    def predict(self, data):\n",
    "        '''\n",
    "        Get average prediction for every object from passed dataset\n",
    "        '''\n",
    "        predictions = np.array([model.predict(data) for model in self.models_list])  # Fixed: models_list not model_list\n",
    "        return np.mean(predictions, axis=0)  # Fixed: average along the correct axis\n",
    "    \n",
    "    def _get_oob_predictions_from_every_model(self):\n",
    "        '''\n",
    "        Generates list of lists, where list i contains predictions for self.data[i] object\n",
    "        from all models, which have not seen this object during training phase\n",
    "        '''\n",
    "        list_of_predictions_lists = [[] for _ in range(len(self.data))]\n",
    "        for i, model in enumerate(self.models_list):\n",
    "            # Create mask for OOB samples (not in the bag)\n",
    "            oob_mask = ~np.isin(np.arange(len(self.data)), self.indices_list[i])\n",
    "            oob_data = self.data[oob_mask]\n",
    "            \n",
    "            if len(oob_data) > 0:\n",
    "                oob_pred = model.predict(oob_data)\n",
    "                # Store predictions for each OOB sample\n",
    "                for j, pred in zip(np.where(oob_mask)[0], oob_pred):\n",
    "                    list_of_predictions_lists[j].append(pred)\n",
    "        \n",
    "        self.list_of_predictions_lists = list_of_predictions_lists  # Doesn't need to be numpy array\n",
    "    \n",
    "    def _get_averaged_oob_predictions(self):\n",
    "        '''\n",
    "        Compute average prediction for every object from training set.\n",
    "        If object has been used in all bags on training phase, return None instead of prediction\n",
    "        '''\n",
    "        self._get_oob_predictions_from_every_model()\n",
    "        self.oob_predictions = np.array([np.mean(preds) if preds else np.nan for preds in self.list_of_predictions_lists])\n",
    "        \n",
    "    def OOB_score(self):\n",
    "        '''\n",
    "        Compute mean square error for all objects, which have at least one prediction\n",
    "        '''\n",
    "        if not self.oob:\n",
    "            raise ValueError(\"OOB score is only available when oob=True\")\n",
    "            \n",
    "        self._get_averaged_oob_predictions()\n",
    "        valid_mask = ~np.isnan(self.oob_predictions)  # None becomes nan in numpy array\n",
    "        if np.sum(valid_mask) == 0:\n",
    "            return None\n",
    "        return np.mean((self.target[valid_mask] - self.oob_predictions[valid_mask]) ** 2)"
   ]
  },
  {
   "cell_type": "markdown",
   "id": "5cfa174f",
   "metadata": {},
   "source": [
    "### Local tests:"
   ]
  },
  {
   "cell_type": "code",
   "execution_count": 3,
   "id": "eaa2e710",
   "metadata": {},
   "outputs": [],
   "source": [
    "from sklearn.linear_model import LinearRegression\n",
    "from tqdm.auto import tqdm"
   ]
  },
  {
   "cell_type": "markdown",
   "id": "b54221c2",
   "metadata": {},
   "source": [
    "#### Simple tests:"
   ]
  },
  {
   "cell_type": "code",
   "execution_count": 13,
   "id": "84c94a8b",
   "metadata": {},
   "outputs": [
    {
     "data": {
      "application/vnd.jupyter.widget-view+json": {
       "model_id": "80dc87073ae24022bb2396264bb6c746",
       "version_major": 2,
       "version_minor": 0
      },
      "text/plain": [
       "  0%|          | 0/100 [00:00<?, ?it/s]"
      ]
     },
     "metadata": {},
     "output_type": "display_data"
    },
    {
     "name": "stdout",
     "output_type": "stream",
     "text": [
      "Simple tests done!\n"
     ]
    }
   ],
   "source": [
    "for _ in tqdm(range(100)):\n",
    "    X = np.random.randn(2000, 10)\n",
    "    y = np.mean(X, axis=1)\n",
    "    bagging_regressor = SimplifiedBaggingRegressor(num_bags=10, oob=True)\n",
    "    bagging_regressor.fit(LinearRegression, X, y)\n",
    "    predictions = bagging_regressor.predict(X)\n",
    "    assert np.mean((predictions - y)**2) < 1e-6, 'Linear dependency should be fitted with almost zero error!'\n",
    "    assert bagging_regressor.oob, 'OOB feature must be turned on'\n",
    "    oob_score = bagging_regressor.OOB_score()\n",
    "    assert oob_score < 1e-6, 'OOB error for linear dependency should be also close to zero!'\n",
    "    assert abs(\n",
    "        np.mean(\n",
    "            list(map(len, bagging_regressor.list_of_predictions_lists))\n",
    "        ) / bagging_regressor.num_bags - 1/np.exp(1)) < 0.1, 'Probability of missing a bag should be close to theoretical value!'\n",
    "    \n",
    "print('Simple tests done!')"
   ]
  },
  {
   "cell_type": "markdown",
   "id": "4be4d037",
   "metadata": {},
   "source": [
    "#### Medium tests"
   ]
  },
  {
   "cell_type": "code",
   "execution_count": 15,
   "id": "0cfd3a21",
   "metadata": {},
   "outputs": [
    {
     "data": {
      "application/vnd.jupyter.widget-view+json": {
       "model_id": "217e6eece1bf4fc68b0f16fa0e41a7e3",
       "version_major": 2,
       "version_minor": 0
      },
      "text/plain": [
       "  0%|          | 0/10 [00:00<?, ?it/s]"
      ]
     },
     "metadata": {},
     "output_type": "display_data"
    },
    {
     "ename": "KeyboardInterrupt",
     "evalue": "",
     "output_type": "error",
     "traceback": [
      "\u001b[31m---------------------------------------------------------------------------\u001b[39m",
      "\u001b[31mKeyboardInterrupt\u001b[39m                         Traceback (most recent call last)",
      "\u001b[36mCell\u001b[39m\u001b[36m \u001b[39m\u001b[32mIn[15]\u001b[39m\u001b[32m, line 5\u001b[39m\n\u001b[32m      3\u001b[39m y = np.random.randn(\u001b[38;5;28mlen\u001b[39m(X))\n\u001b[32m      4\u001b[39m bagging_regressor = SimplifiedBaggingRegressor(num_bags=\u001b[32m20\u001b[39m, oob=\u001b[38;5;28;01mTrue\u001b[39;00m)\n\u001b[32m----> \u001b[39m\u001b[32m5\u001b[39m \u001b[43mbagging_regressor\u001b[49m\u001b[43m.\u001b[49m\u001b[43mfit\u001b[49m\u001b[43m(\u001b[49m\u001b[43mLinearRegression\u001b[49m\u001b[43m,\u001b[49m\u001b[43m \u001b[49m\u001b[43mX\u001b[49m\u001b[43m,\u001b[49m\u001b[43m \u001b[49m\u001b[43my\u001b[49m\u001b[43m)\u001b[49m\n\u001b[32m      6\u001b[39m predictions = bagging_regressor.predict(X)\n\u001b[32m      7\u001b[39m average_train_error = np.mean((predictions - y)**\u001b[32m2\u001b[39m)\n",
      "\u001b[36mCell\u001b[39m\u001b[36m \u001b[39m\u001b[32mIn[12]\u001b[39m\u001b[32m, line 31\u001b[39m, in \u001b[36mSimplifiedBaggingRegressor.fit\u001b[39m\u001b[34m(self, model_constructor, data, target)\u001b[39m\n\u001b[32m     29\u001b[39m data_bag = data[\u001b[38;5;28mself\u001b[39m.indices_list[bag]]  \u001b[38;5;66;03m# Fixed: use indices to get data samples\u001b[39;00m\n\u001b[32m     30\u001b[39m target_bag = target[\u001b[38;5;28mself\u001b[39m.indices_list[bag]]  \u001b[38;5;66;03m# Fixed: use indices to get target samples\u001b[39;00m\n\u001b[32m---> \u001b[39m\u001b[32m31\u001b[39m \u001b[38;5;28mself\u001b[39m.models_list.append(\u001b[43mmodel\u001b[49m\u001b[43m.\u001b[49m\u001b[43mfit\u001b[49m\u001b[43m(\u001b[49m\u001b[43mdata_bag\u001b[49m\u001b[43m,\u001b[49m\u001b[43m \u001b[49m\u001b[43mtarget_bag\u001b[49m\u001b[43m)\u001b[49m)\n",
      "\u001b[36mFile \u001b[39m\u001b[32m~/Projects/ML/ML_yandex_training/venv/lib/python3.11/site-packages/sklearn/base.py:1363\u001b[39m, in \u001b[36m_fit_context.<locals>.decorator.<locals>.wrapper\u001b[39m\u001b[34m(estimator, *args, **kwargs)\u001b[39m\n\u001b[32m   1356\u001b[39m     estimator._validate_params()\n\u001b[32m   1358\u001b[39m \u001b[38;5;28;01mwith\u001b[39;00m config_context(\n\u001b[32m   1359\u001b[39m     skip_parameter_validation=(\n\u001b[32m   1360\u001b[39m         prefer_skip_nested_validation \u001b[38;5;129;01mor\u001b[39;00m global_skip_validation\n\u001b[32m   1361\u001b[39m     )\n\u001b[32m   1362\u001b[39m ):\n\u001b[32m-> \u001b[39m\u001b[32m1363\u001b[39m     \u001b[38;5;28;01mreturn\u001b[39;00m \u001b[43mfit_method\u001b[49m\u001b[43m(\u001b[49m\u001b[43mestimator\u001b[49m\u001b[43m,\u001b[49m\u001b[43m \u001b[49m\u001b[43m*\u001b[49m\u001b[43margs\u001b[49m\u001b[43m,\u001b[49m\u001b[43m \u001b[49m\u001b[43m*\u001b[49m\u001b[43m*\u001b[49m\u001b[43mkwargs\u001b[49m\u001b[43m)\u001b[49m\n",
      "\u001b[36mFile \u001b[39m\u001b[32m~/Projects/ML/ML_yandex_training/venv/lib/python3.11/site-packages/sklearn/linear_model/_base.py:701\u001b[39m, in \u001b[36mLinearRegression.fit\u001b[39m\u001b[34m(self, X, y, sample_weight)\u001b[39m\n\u001b[32m    698\u001b[39m \u001b[38;5;28;01melse\u001b[39;00m:\n\u001b[32m    699\u001b[39m     \u001b[38;5;66;03m# cut-off ratio for small singular values\u001b[39;00m\n\u001b[32m    700\u001b[39m     cond = \u001b[38;5;28mmax\u001b[39m(X.shape) * np.finfo(X.dtype).eps\n\u001b[32m--> \u001b[39m\u001b[32m701\u001b[39m     \u001b[38;5;28mself\u001b[39m.coef_, _, \u001b[38;5;28mself\u001b[39m.rank_, \u001b[38;5;28mself\u001b[39m.singular_ = \u001b[43mlinalg\u001b[49m\u001b[43m.\u001b[49m\u001b[43mlstsq\u001b[49m\u001b[43m(\u001b[49m\u001b[43mX\u001b[49m\u001b[43m,\u001b[49m\u001b[43m \u001b[49m\u001b[43my\u001b[49m\u001b[43m,\u001b[49m\u001b[43m \u001b[49m\u001b[43mcond\u001b[49m\u001b[43m=\u001b[49m\u001b[43mcond\u001b[49m\u001b[43m)\u001b[49m\n\u001b[32m    702\u001b[39m     \u001b[38;5;28mself\u001b[39m.coef_ = \u001b[38;5;28mself\u001b[39m.coef_.T\n\u001b[32m    704\u001b[39m \u001b[38;5;28;01mif\u001b[39;00m y.ndim == \u001b[32m1\u001b[39m:\n",
      "\u001b[36mFile \u001b[39m\u001b[32m~/Projects/ML/ML_yandex_training/venv/lib/python3.11/site-packages/scipy/linalg/_basic.py:1470\u001b[39m, in \u001b[36mlstsq\u001b[39m\u001b[34m(a, b, cond, overwrite_a, overwrite_b, check_finite, lapack_driver)\u001b[39m\n\u001b[32m   1468\u001b[39m \u001b[38;5;28;01mif\u001b[39;00m real_data:\n\u001b[32m   1469\u001b[39m     lwork, iwork = _compute_lwork(lapack_lwork, m, n, nrhs, cond)\n\u001b[32m-> \u001b[39m\u001b[32m1470\u001b[39m     x, s, rank, info = \u001b[43mlapack_func\u001b[49m\u001b[43m(\u001b[49m\u001b[43ma1\u001b[49m\u001b[43m,\u001b[49m\u001b[43m \u001b[49m\u001b[43mb1\u001b[49m\u001b[43m,\u001b[49m\u001b[43m \u001b[49m\u001b[43mlwork\u001b[49m\u001b[43m,\u001b[49m\n\u001b[32m   1471\u001b[39m \u001b[43m                                   \u001b[49m\u001b[43miwork\u001b[49m\u001b[43m,\u001b[49m\u001b[43m \u001b[49m\u001b[43mcond\u001b[49m\u001b[43m,\u001b[49m\u001b[43m \u001b[49m\u001b[38;5;28;43;01mFalse\u001b[39;49;00m\u001b[43m,\u001b[49m\u001b[43m \u001b[49m\u001b[38;5;28;43;01mFalse\u001b[39;49;00m\u001b[43m)\u001b[49m\n\u001b[32m   1472\u001b[39m \u001b[38;5;28;01melse\u001b[39;00m:  \u001b[38;5;66;03m# complex data\u001b[39;00m\n\u001b[32m   1473\u001b[39m     lwork, rwork, iwork = _compute_lwork(lapack_lwork, m, n,\n\u001b[32m   1474\u001b[39m                                          nrhs, cond)\n",
      "\u001b[31mKeyboardInterrupt\u001b[39m: "
     ]
    }
   ],
   "source": [
    "for _ in tqdm(range(10)):\n",
    "    X = np.random.randn(200, 150)\n",
    "    y = np.random.randn(len(X))\n",
    "    bagging_regressor = SimplifiedBaggingRegressor(num_bags=20, oob=True)\n",
    "    bagging_regressor.fit(LinearRegression, X, y)\n",
    "    predictions = bagging_regressor.predict(X)\n",
    "    average_train_error = np.mean((predictions - y)**2)\n",
    "    assert bagging_regressor.oob, 'OOB feature must be turned on'\n",
    "    oob_score = bagging_regressor.OOB_score()\n",
    "    assert oob_score > average_train_error, 'OOB error must be higher than train error due to overfitting!'\n",
    "    assert abs(\n",
    "        np.mean(\n",
    "            list(map(len, bagging_regressor.list_of_predictions_lists))\n",
    "        ) / bagging_regressor.num_bags - 1/np.exp(1)) < 0.1, 'Probability of missing a bag should be close to theoretical value!'\n",
    "    \n",
    "print('Medium tests done!')"
   ]
  },
  {
   "cell_type": "markdown",
   "id": "725818ff",
   "metadata": {},
   "source": [
    "#### Complex tests:"
   ]
  },
  {
   "cell_type": "code",
   "execution_count": 16,
   "id": "8f929d6b",
   "metadata": {},
   "outputs": [
    {
     "data": {
      "application/vnd.jupyter.widget-view+json": {
       "model_id": "0fa326875563402da15282c22de45c84",
       "version_major": 2,
       "version_minor": 0
      },
      "text/plain": [
       "  0%|          | 0/10 [00:00<?, ?it/s]"
      ]
     },
     "metadata": {},
     "output_type": "display_data"
    },
    {
     "name": "stdout",
     "output_type": "stream",
     "text": [
      "Complex tests done!\n"
     ]
    }
   ],
   "source": [
    "for _ in tqdm(range(10)):\n",
    "    X = np.random.randn(2000, 15)\n",
    "    y = np.random.randn(len(X))\n",
    "    bagging_regressor = SimplifiedBaggingRegressor(num_bags=100, oob=True)\n",
    "    bagging_regressor.fit(LinearRegression, X, y)\n",
    "    predictions = bagging_regressor.predict(X)\n",
    "    oob_score = bagging_regressor.OOB_score()\n",
    "    assert abs(\n",
    "        np.mean(\n",
    "            list(map(len, bagging_regressor.list_of_predictions_lists))\n",
    "        ) / bagging_regressor.num_bags - 1/np.exp(1)) < 1e-2, 'Probability of missing a bag should be close to theoretical value!'\n",
    "    \n",
    "print('Complex tests done!')"
   ]
  },
  {
   "cell_type": "code",
   "execution_count": 17,
   "id": "af170ef8",
   "metadata": {},
   "outputs": [
    {
     "data": {
      "text/plain": [
       "np.float64(-0.0002494411714423772)"
      ]
     },
     "execution_count": 17,
     "metadata": {},
     "output_type": "execute_result"
    }
   ],
   "source": [
    "np.mean(\n",
    "            list(map(len, bagging_regressor.list_of_predictions_lists))\n",
    "        ) / bagging_regressor.num_bags - 1/np.exp(1)"
   ]
  },
  {
   "cell_type": "markdown",
   "id": "9535cb6d",
   "metadata": {},
   "source": [
    "Great job! Please, save `SimplifiedBaggingRegressor` to  `bagging.py` and submit your solution to the grading system!"
   ]
  }
 ],
 "metadata": {
  "kernelspec": {
   "display_name": "venv",
   "language": "python",
   "name": "python3"
  },
  "language_info": {
   "codemirror_mode": {
    "name": "ipython",
    "version": 3
   },
   "file_extension": ".py",
   "mimetype": "text/x-python",
   "name": "python",
   "nbconvert_exporter": "python",
   "pygments_lexer": "ipython3",
   "version": "3.11.2"
  }
 },
 "nbformat": 4,
 "nbformat_minor": 5
}
